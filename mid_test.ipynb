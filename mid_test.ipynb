{
 "cells": [
  {
   "cell_type": "code",
   "execution_count": null,
   "metadata": {},
   "outputs": [],
   "source": [
    "import pandas as pd\n",
    "import numpy as np\n",
    "\n",
    "df_csv = pd.read_csv(\"adult.csv\")\n",
    "display(df_csv)\n",
    "# 提取薪資列\n",
    "salary = df_csv['Income']\n",
    "\n",
    "# 計算平均值\n",
    "mean_salary = np.mean(salary)\n",
    "\n",
    "# 計算標準差\n",
    "std_salary = np.std(salary)\n",
    "\n",
    "# 計算中位數\n",
    "median_salary = np.median(salary)\n",
    "\n",
    "# 輸出結果\n",
    "print('平均值:', mean_salary)\n",
    "print('標準差:', std_salary)\n",
    "print('中位數:', median_salary)"
   ]
  }
 ],
 "metadata": {
  "language_info": {
   "name": "python"
  }
 },
 "nbformat": 4,
 "nbformat_minor": 2
}

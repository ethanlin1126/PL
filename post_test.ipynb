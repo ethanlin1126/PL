{
 "cells": [
  {
   "cell_type": "code",
   "execution_count": null,
   "metadata": {},
   "outputs": [],
   "source": [
    "import pandas as pd\n",
    "import numpy as np\n",
    "\n",
    "df_csv = pd.read_csv(\"adult.csv\")\n",
    "display(df_csv)\n",
    "# 提取薪資列\n",
    "salary = df_csv['Income']\n",
    "\n",
    "# 計算平均值\n",
    "mean_salary = np.mean(salary)\n",
    "\n",
    "# 計算標準差\n",
    "std_salary = np.std(salary)\n",
    "\n",
    "# 計算中位數\n",
    "median_salary = np.median(salary)\n",
    "\n",
    "# 輸出結果\n",
    "print('平均值:', mean_salary)\n",
    "print('標準差:', std_salary)\n",
    "print('中位數:', median_salary)\n",
    "\n",
    "import matplotlib.pyplot as plt\n",
    "# 設置收入區間\n",
    "income_bins = [0,50000,100000,150000,200000,250000,300000]\n",
    "\n",
    "# 劃分收入區間並計算每個區間內的人數\n",
    "income_counts, _ = pd.cut(salary, bins=income_bins, include_lowest=True, right=False, retbins=True)\n",
    "\n",
    "# 統計每個區間內的人數\n",
    "income_counts = income_counts.value_counts().sort_index()\n",
    "\n",
    "# 繪製直方圖\n",
    "plt.bar(income_counts.index.astype(str), income_counts.values)\n",
    "plt.xlabel('Income Range')\n",
    "plt.ylabel('Number of People')\n",
    "plt.title('Distribution of Income')\n",
    "plt.xticks(rotation=45)  # 旋轉x軸標籤\n",
    "plt.show()\n",
    "\n"
   ]
  }
 ],
 "metadata": {
  "language_info": {
   "name": "python"
  }
 },
 "nbformat": 4,
 "nbformat_minor": 2
}

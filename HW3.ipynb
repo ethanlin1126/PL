{
 "cells": [
  {
   "cell_type": "code",
   "execution_count": 33,
   "id": "f523a189",
   "metadata": {},
   "outputs": [],
   "source": [
    "#抓取ptt 籃球看板的網址\n",
    "import urllib.request as req\n",
    "import json\n",
    "import pandas as pd\n",
    "import numpy\n",
    "#輸入要爬的網頁網址 這邊輸入的是ptt的網址\n",
    "url= \"https://www.ptt.cc/bbs/basketballTW/index.html\"\n",
    "\n",
    "#建立一個Request物件，附加Request Headers的資訊 (讓被使用的網頁知道你的作業系統等使用者資訊)\n",
    "request=req.Request(url, headers={\n",
    "    \"User-Agent\":\"Mozilla/5.0 (Windows NT 10.0; Win64; x64) AppleWebKit/537.36 (KHTML, like Gecko) Chrome/106.0.0.0 Safari/537.36\"\n",
    "})"
   ]
  },
  {
   "cell_type": "code",
   "execution_count": 34,
   "id": "f59a7bb5",
   "metadata": {
    "scrolled": true
   },
   "outputs": [
    {
     "name": "stdout",
     "output_type": "stream",
     "text": [
      "[討論] PLG規章：有權力停權or除名攻城獅\n",
      "[新聞] 「表弟」帶家人回歸 卡森斯要和雲豹拚隊\n",
      "Re: [乳摸] 二哥threads-關於新聯盟\n",
      "Re: [討論] 黑人做籃球為什麼都虎頭蛇尾\n",
      "Re: [討論] 黑人做籃球為什麼都虎頭蛇尾\n",
      "[新聞] 悍創疑涉掏空攻城獅遭提告 竹檢：偵查中\n",
      "[新聞] PLG》又是負面新聞！新竹攻城獅爆經營\n",
      "[討論] 攻城獅爭議事件最大輸家\n",
      "[討論] 林力仁的模板是K湯嗎？\n",
      "[討論] Klay Thompson 是不是有機會來台灣打球\n",
      "Fw: [新聞] 勇士附加賽慘輸！K湯生涯第5度單場0分 球迷狠酸「NBA版\n",
      "[討論] 職籃爭議不斷是因為台灣是速成文化嗎\n",
      "[新聞] 不只「法國小跑車」帕克！傳奇扣將威金\n",
      "[情報] 攻城獅IG\n",
      "[公告] 台籃板板規 2.2\n",
      "[情報] 2023-24 PLG/T1/SBL/WSBL 賽程表\n",
      "[公告] 票務區 (四月) (徵售請勿黃牛行為)\n",
      "[公告] 季後賽條款\n"
     ]
    }
   ],
   "source": [
    "#將網頁原始碼讀出\n",
    "with req.urlopen(request) as response:\n",
    "    data=response.read().decode(\"utf-8\")\n",
    "    \n",
    "#將帶有標題的資料篩出，其他去掉\n",
    "import bs4\n",
    "root=bs4.BeautifulSoup(data, \"html.parser\")\n",
    "titles=root.find_all(\"div\", class_=\"title\")\n",
    "for title in titles:\n",
    "    if title.a !=None:\n",
    "        print(title.a.string)    "
   ]
  },
  {
   "cell_type": "code",
   "execution_count": 36,
   "id": "cb2b9efe",
   "metadata": {},
   "outputs": [
    {
     "data": {
      "text/plain": [
       "['[討論] PLG規章：有權力停權or除名攻城獅',\n",
       " '[新聞] 「表弟」帶家人回歸 卡森斯要和雲豹拚隊',\n",
       " 'Re: [乳摸] 二哥threads-關於新聯盟',\n",
       " 'Re: [討論] 黑人做籃球為什麼都虎頭蛇尾',\n",
       " 'Re: [討論] 黑人做籃球為什麼都虎頭蛇尾',\n",
       " '[新聞] 悍創疑涉掏空攻城獅遭提告 竹檢：偵查中',\n",
       " '[新聞] PLG》又是負面新聞！新竹攻城獅爆經營',\n",
       " '[討論] 攻城獅爭議事件最大輸家',\n",
       " '[討論] 林力仁的模板是K湯嗎？',\n",
       " '[討論] Klay Thompson 是不是有機會來台灣打球',\n",
       " 'Fw: [新聞] 勇士附加賽慘輸！K湯生涯第5度單場0分 球迷狠酸「NBA版',\n",
       " '[討論] 職籃爭議不斷是因為台灣是速成文化嗎',\n",
       " '[新聞] 不只「法國小跑車」帕克！傳奇扣將威金',\n",
       " '[情報] 攻城獅IG',\n",
       " '[公告] 台籃板板規 2.2',\n",
       " '[情報] 2023-24 PLG/T1/SBL/WSBL 賽程表',\n",
       " '[公告] 票務區 (四月) (徵售請勿黃牛行為)',\n",
       " '[公告] 季後賽條款']"
      ]
     },
     "execution_count": 36,
     "metadata": {},
     "output_type": "execute_result"
    }
   ],
   "source": [
    "#放入有效的資料\n",
    "temp = []\n",
    "for title in titles:\n",
    "    if title.a !=None:\n",
    "        temp.append(title.a.string)\n",
    "\n",
    "temp"
   ]
  },
  {
   "cell_type": "code",
   "execution_count": 37,
   "id": "51451fe5",
   "metadata": {},
   "outputs": [
    {
     "name": "stdout",
     "output_type": "stream",
     "text": [
      "                                         0\n",
      "0                  [討論] PLG規章：有權力停權or除名攻城獅\n",
      "1                 [新聞] 「表弟」帶家人回歸 卡森斯要和雲豹拚隊\n",
      "2                 Re: [乳摸] 二哥threads-關於新聯盟\n",
      "3                   Re: [討論] 黑人做籃球為什麼都虎頭蛇尾\n",
      "4                   Re: [討論] 黑人做籃球為什麼都虎頭蛇尾\n",
      "5                 [新聞] 悍創疑涉掏空攻城獅遭提告 竹檢：偵查中\n",
      "6                 [新聞] PLG》又是負面新聞！新竹攻城獅爆經營\n",
      "7                         [討論] 攻城獅爭議事件最大輸家\n",
      "8                         [討論] 林力仁的模板是K湯嗎？\n",
      "9           [討論] Klay Thompson 是不是有機會來台灣打球\n",
      "10  Fw: [新聞] 勇士附加賽慘輸！K湯生涯第5度單場0分 球迷狠酸「NBA版\n",
      "11                  [討論] 職籃爭議不斷是因為台灣是速成文化嗎\n",
      "12                 [新聞] 不只「法國小跑車」帕克！傳奇扣將威金\n",
      "13                              [情報] 攻城獅IG\n",
      "14                          [公告] 台籃板板規 2.2\n",
      "15        [情報] 2023-24 PLG/T1/SBL/WSBL 賽程表\n",
      "16                [公告] 票務區 (四月) (徵售請勿黃牛行為)\n",
      "17                              [公告] 季後賽條款\n"
     ]
    }
   ],
   "source": [
    "#列表轉成dataframe\n",
    "df = pd.DataFrame(temp)\n",
    "print(df)"
   ]
  },
  {
   "cell_type": "code",
   "execution_count": 42,
   "id": "cb8a4f4b",
   "metadata": {},
   "outputs": [
    {
     "name": "stdout",
     "output_type": "stream",
     "text": [
      "\"[討論] PLG規章：有權力停權or除名攻城獅\"\n",
      "\"[新聞] 「表弟」帶家人回歸 卡森斯要和雲豹拚隊\"\n",
      "\"Re: [乳摸] 二哥threads-關於新聯盟\"\n",
      "\"Re: [討論] 黑人做籃球為什麼都虎頭蛇尾\"\n",
      "\"Re: [討論] 黑人做籃球為什麼都虎頭蛇尾\"\n",
      "\"[新聞] 悍創疑涉掏空攻城獅遭提告 竹檢：偵查中\"\n",
      "\"[新聞] PLG》又是負面新聞！新竹攻城獅爆經營\"\n",
      "\"[討論] 攻城獅爭議事件最大輸家\"\n",
      "\"[討論] 林力仁的模板是K湯嗎？\"\n",
      "\"[討論] Klay Thompson 是不是有機會來台灣打球\"\n",
      "\"Fw: [新聞] 勇士附加賽慘輸！K湯生涯第5度單場0分 球迷狠酸「NBA版\"\n",
      "\"[討論] 職籃爭議不斷是因為台灣是速成文化嗎\"\n",
      "\"[新聞] 不只「法國小跑車」帕克！傳奇扣將威金\"\n",
      "\"[情報] 攻城獅IG\"\n",
      "\"[公告] 台籃板板規 2.2\"\n",
      "\"[情報] 2023-24 PLG/T1/SBL/WSBL 賽程表\"\n",
      "\"[公告] 票務區 (四月) (徵售請勿黃牛行為)\"\n",
      "\"[公告] 季後賽條款\"\n"
     ]
    }
   ],
   "source": [
    "#轉成csv檔\n",
    "temp = []\n",
    "for title in titles:\n",
    "    if title.a !=None: # 如果標題包含 a 標籤(仍存在於網頁上)，就印出來\n",
    "        finish = title.a.string \n",
    "        json_dict = json.dumps(finish,ensure_ascii=False).encode('utf8')\n",
    "        decode = json_dict.decode()\n",
    "        temp.append(decode)\n",
    "        print(decode)\n",
    "df.to_csv('ptt_basketball_titles.csv', index=False)"
   ]
  },
  {
   "cell_type": "code",
   "execution_count": 43,
   "id": "1a3428c4",
   "metadata": {},
   "outputs": [
    {
     "data": {
      "text/plain": [
       "{0: {0: '[討論] PLG規章：有權力停權or除名攻城獅',\n",
       "  1: '[新聞] 「表弟」帶家人回歸 卡森斯要和雲豹拚隊',\n",
       "  2: 'Re: [乳摸] 二哥threads-關於新聯盟',\n",
       "  3: 'Re: [討論] 黑人做籃球為什麼都虎頭蛇尾',\n",
       "  4: 'Re: [討論] 黑人做籃球為什麼都虎頭蛇尾',\n",
       "  5: '[新聞] 悍創疑涉掏空攻城獅遭提告 竹檢：偵查中',\n",
       "  6: '[新聞] PLG》又是負面新聞！新竹攻城獅爆經營',\n",
       "  7: '[討論] 攻城獅爭議事件最大輸家',\n",
       "  8: '[討論] 林力仁的模板是K湯嗎？',\n",
       "  9: '[討論] Klay Thompson 是不是有機會來台灣打球',\n",
       "  10: 'Fw: [新聞] 勇士附加賽慘輸！K湯生涯第5度單場0分 球迷狠酸「NBA版',\n",
       "  11: '[討論] 職籃爭議不斷是因為台灣是速成文化嗎',\n",
       "  12: '[新聞] 不只「法國小跑車」帕克！傳奇扣將威金',\n",
       "  13: '[情報] 攻城獅IG',\n",
       "  14: '[公告] 台籃板板規 2.2',\n",
       "  15: '[情報] 2023-24 PLG/T1/SBL/WSBL 賽程表',\n",
       "  16: '[公告] 票務區 (四月) (徵售請勿黃牛行為)',\n",
       "  17: '[公告] 季後賽條款'}}"
      ]
     },
     "execution_count": 43,
     "metadata": {},
     "output_type": "execute_result"
    }
   ],
   "source": [
    "# 將dataFrame轉為dict\n",
    "temp = df.to_dict()\n",
    "type(temp)\n",
    "temp"
   ]
  },
  {
   "cell_type": "code",
   "execution_count": 40,
   "id": "b82ea000",
   "metadata": {},
   "outputs": [
    {
     "data": {
      "text/html": [
       "<div>\n",
       "<style scoped>\n",
       "    .dataframe tbody tr th:only-of-type {\n",
       "        vertical-align: middle;\n",
       "    }\n",
       "\n",
       "    .dataframe tbody tr th {\n",
       "        vertical-align: top;\n",
       "    }\n",
       "\n",
       "    .dataframe thead th {\n",
       "        text-align: right;\n",
       "    }\n",
       "</style>\n",
       "<table border=\"1\" class=\"dataframe\">\n",
       "  <thead>\n",
       "    <tr style=\"text-align: right;\">\n",
       "      <th></th>\n",
       "      <th>0</th>\n",
       "    </tr>\n",
       "  </thead>\n",
       "  <tbody>\n",
       "    <tr>\n",
       "      <th>0</th>\n",
       "      <td>[討論] PLG規章：有權力停權or除名攻城獅</td>\n",
       "    </tr>\n",
       "    <tr>\n",
       "      <th>1</th>\n",
       "      <td>[新聞] 「表弟」帶家人回歸 卡森斯要和雲豹拚隊</td>\n",
       "    </tr>\n",
       "    <tr>\n",
       "      <th>2</th>\n",
       "      <td>Re: [乳摸] 二哥threads-關於新聯盟</td>\n",
       "    </tr>\n",
       "    <tr>\n",
       "      <th>3</th>\n",
       "      <td>Re: [討論] 黑人做籃球為什麼都虎頭蛇尾</td>\n",
       "    </tr>\n",
       "    <tr>\n",
       "      <th>4</th>\n",
       "      <td>Re: [討論] 黑人做籃球為什麼都虎頭蛇尾</td>\n",
       "    </tr>\n",
       "    <tr>\n",
       "      <th>5</th>\n",
       "      <td>[新聞] 悍創疑涉掏空攻城獅遭提告 竹檢：偵查中</td>\n",
       "    </tr>\n",
       "    <tr>\n",
       "      <th>6</th>\n",
       "      <td>[新聞] PLG》又是負面新聞！新竹攻城獅爆經營</td>\n",
       "    </tr>\n",
       "    <tr>\n",
       "      <th>7</th>\n",
       "      <td>[討論] 攻城獅爭議事件最大輸家</td>\n",
       "    </tr>\n",
       "    <tr>\n",
       "      <th>8</th>\n",
       "      <td>[討論] 林力仁的模板是K湯嗎？</td>\n",
       "    </tr>\n",
       "    <tr>\n",
       "      <th>9</th>\n",
       "      <td>[討論] Klay Thompson 是不是有機會來台灣打球</td>\n",
       "    </tr>\n",
       "    <tr>\n",
       "      <th>10</th>\n",
       "      <td>Fw: [新聞] 勇士附加賽慘輸！K湯生涯第5度單場0分 球迷狠酸「NBA版</td>\n",
       "    </tr>\n",
       "    <tr>\n",
       "      <th>11</th>\n",
       "      <td>[討論] 職籃爭議不斷是因為台灣是速成文化嗎</td>\n",
       "    </tr>\n",
       "    <tr>\n",
       "      <th>12</th>\n",
       "      <td>[新聞] 不只「法國小跑車」帕克！傳奇扣將威金</td>\n",
       "    </tr>\n",
       "    <tr>\n",
       "      <th>13</th>\n",
       "      <td>[情報] 攻城獅IG</td>\n",
       "    </tr>\n",
       "    <tr>\n",
       "      <th>14</th>\n",
       "      <td>[公告] 台籃板板規 2.2</td>\n",
       "    </tr>\n",
       "    <tr>\n",
       "      <th>15</th>\n",
       "      <td>[情報] 2023-24 PLG/T1/SBL/WSBL 賽程表</td>\n",
       "    </tr>\n",
       "    <tr>\n",
       "      <th>16</th>\n",
       "      <td>[公告] 票務區 (四月) (徵售請勿黃牛行為)</td>\n",
       "    </tr>\n",
       "    <tr>\n",
       "      <th>17</th>\n",
       "      <td>[公告] 季後賽條款</td>\n",
       "    </tr>\n",
       "  </tbody>\n",
       "</table>\n",
       "</div>"
      ],
      "text/plain": [
       "                                         0\n",
       "0                  [討論] PLG規章：有權力停權or除名攻城獅\n",
       "1                 [新聞] 「表弟」帶家人回歸 卡森斯要和雲豹拚隊\n",
       "2                 Re: [乳摸] 二哥threads-關於新聯盟\n",
       "3                   Re: [討論] 黑人做籃球為什麼都虎頭蛇尾\n",
       "4                   Re: [討論] 黑人做籃球為什麼都虎頭蛇尾\n",
       "5                 [新聞] 悍創疑涉掏空攻城獅遭提告 竹檢：偵查中\n",
       "6                 [新聞] PLG》又是負面新聞！新竹攻城獅爆經營\n",
       "7                         [討論] 攻城獅爭議事件最大輸家\n",
       "8                         [討論] 林力仁的模板是K湯嗎？\n",
       "9           [討論] Klay Thompson 是不是有機會來台灣打球\n",
       "10  Fw: [新聞] 勇士附加賽慘輸！K湯生涯第5度單場0分 球迷狠酸「NBA版\n",
       "11                  [討論] 職籃爭議不斷是因為台灣是速成文化嗎\n",
       "12                 [新聞] 不只「法國小跑車」帕克！傳奇扣將威金\n",
       "13                              [情報] 攻城獅IG\n",
       "14                          [公告] 台籃板板規 2.2\n",
       "15        [情報] 2023-24 PLG/T1/SBL/WSBL 賽程表\n",
       "16                [公告] 票務區 (四月) (徵售請勿黃牛行為)\n",
       "17                              [公告] 季後賽條款"
      ]
     },
     "execution_count": 40,
     "metadata": {},
     "output_type": "execute_result"
    }
   ],
   "source": [
    "df"
   ]
  },
  {
   "cell_type": "code",
   "execution_count": 41,
   "id": "22650828",
   "metadata": {},
   "outputs": [],
   "source": [
    "#把dict轉成json \n",
    "with open('CHAT.json','w',encoding='utf-8') as file:\n",
    "    json.dump(temp,file,ensure_ascii=False)"
   ]
  },
  {
   "cell_type": "code",
   "execution_count": 31,
   "id": "23b080e9",
   "metadata": {},
   "outputs": [],
   "source": []
  },
  {
   "cell_type": "code",
   "execution_count": null,
   "id": "a32923a7",
   "metadata": {},
   "outputs": [],
   "source": []
  }
 ],
 "metadata": {
  "kernelspec": {
   "display_name": "Python 3 (ipykernel)",
   "language": "python",
   "name": "python3"
  },
  "language_info": {
   "codemirror_mode": {
    "name": "ipython",
    "version": 3
   },
   "file_extension": ".py",
   "mimetype": "text/x-python",
   "name": "python",
   "nbconvert_exporter": "python",
   "pygments_lexer": "ipython3",
   "version": "3.11.5"
  }
 },
 "nbformat": 4,
 "nbformat_minor": 5
}

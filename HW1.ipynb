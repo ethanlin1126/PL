{
 "cells": [
  {
   "cell_type": "code",
   "execution_count": null,
   "metadata": {},
   "outputs": [],
   "source": [
    "import pandas as pd\n",
    "\n",
    "#輸入表格\n",
    "df = pd.read_csv('/Users/ethanlin/Downloads/legislator.csv')\n",
    "print(df)\n",
    "\n",
    "# 聯集\n",
    "union_set = set()\n",
    "for value in df.iloc[:, 0]:\n",
    "    union_set.add(value)\n",
    "    \n",
    "print(\"立委聯集:\", union_set)\n",
    "\n",
    "# 交集\n",
    "intersection_set = set()\n",
    "print('xx黨x性立委當選人')\n",
    "\n",
    "for index, row in df.iterrows():\n",
    "    party = row[1]  # 表格第二欄是黨籍\n",
    "    gender = row[2]  # 表格第三欄是性別\n",
    "    if party == \"xx黨\" and gender == \"男or女\":\n",
    "        intersection_set.add(row[0])  # 表格第一欄是姓名\n",
    "# 輸出交集對應的姓名\n",
    "for name in intersection_set:\n",
    "    print(name)\n",
    "\n",
    "# 差集\n",
    "# 創建一個 set 來存儲國民黨、民進黨、民眾黨的姓名\n",
    "political_parties_set = {\"國民黨\", \"民進黨\", \"民眾黨\"}\n",
    "\n",
    "# 創建一個空的 set 來存儲符合條件的姓名\n",
    "parties_names_set = set()\n",
    "\n",
    "for index, row in df.iterrows():\n",
    "    party = row[1]  \n",
    "    if party in political_parties_set:\n",
    "        parties_names_set.add(row[0])  \n",
    "\n",
    "# 所有姓名的 set\n",
    "all_names_set = set(df.iloc[:, 0])\n",
    "\n",
    "# 找到不是黨員的姓名\n",
    "non_political_parties_names_set = all_names_set - parties_names_set\n",
    "\n",
    "# 輸出差異的姓名\n",
    "for name in non_political_parties_names_set:\n",
    "    print(name)"
   ]
  }
 ],
 "metadata": {
  "language_info": {
   "name": "python"
  }
 },
 "nbformat": 4,
 "nbformat_minor": 2
}

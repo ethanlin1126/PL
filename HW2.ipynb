{
 "cells": [
  {
   "cell_type": "code",
   "execution_count": 2,
   "id": "2fff7643",
   "metadata": {},
   "outputs": [
    {
     "name": "stdout",
     "output_type": "stream",
     "text": [
      "下載排名:\n",
      "1. WhatsApp - 6000000000 downloads\n",
      "2. YouTube - 5000000000 downloads\n",
      "3. Facebook - 3000000000 downloads\n",
      "4. Instagram - 1000000000 downloads\n",
      "5. Snapchat - 1000000000 downloads\n",
      "6. TikTok - 500000000 downloads\n",
      "\n",
      "分數排名:\n",
      "1. YouTube - Rating: 4.8\n",
      "2. WhatsApp - Rating: 4.7\n",
      "3. Instagram - Rating: 4.6\n",
      "4. TikTok - Rating: 4.5\n",
      "5. Snapchat - Rating: 4.3\n",
      "6. Facebook - Rating: 4.0\n",
      "\n",
      "整體排名最高的應用程式: WhatsApp\n"
     ]
    }
   ],
   "source": [
    "import json\n",
    "\n",
    "def load_from_json(filename):\n",
    "\n",
    "    with open(filename, 'r') as f:\n",
    "        return json.load(f)\n",
    "\n",
    "def print_app_rankings(app_rankings):\n",
    "    \"\"\"\n",
    "    輸出應用程式的下載排名和分數排名\n",
    "    \"\"\"\n",
    "    sorted_by_downloads = sorted(app_rankings['apps'], key=lambda x: x['downloads'], reverse=True)\n",
    "    sorted_by_rating = sorted(app_rankings['apps'], key=lambda x: x['rating'], reverse=True)\n",
    "\n",
    "    print(\"下載排名:\")\n",
    "    for i, app in enumerate(sorted_by_downloads, start=1):\n",
    "        print(f\"{i}. {app['name']} - {app['downloads']} downloads\")\n",
    "\n",
    "    print(\"\\n分數排名:\")\n",
    "    for i, app in enumerate(sorted_by_rating, start=1):\n",
    "        print(f\"{i}. {app['name']} - Rating: {app['rating']}\")\n",
    "\n",
    "def print_top_app(app_rankings):\n",
    "    \"\"\"\n",
    "    輸出綜合下載次數與分數排名相對最高的應用程式\n",
    "    \"\"\"\n",
    "    sorted_by_combined_rank = sorted(app_rankings['apps'], key=lambda x: (x['downloads'] + x['rating']), reverse=True)\n",
    "    top_app = sorted_by_combined_rank[0]\n",
    "    print(f\"\\n整體排名最高的應用程式: {top_app['name']}\")\n",
    "\n",
    "# 讀取 JSON 檔案\n",
    "app_rankings_data = load_from_json(\"app_rankings.json\")\n",
    "\n",
    "# 輸出應用程式排名\n",
    "print_app_rankings(app_rankings_data)\n",
    "\n",
    "# 輸出綜合下載次數與分數排名相對最高的應用程式\n",
    "print_top_app(app_rankings_data)\n"
   ]
  },
  {
   "cell_type": "code",
   "execution_count": null,
   "id": "cbae2d9a",
   "metadata": {},
   "outputs": [],
   "source": []
  }
 ],
 "metadata": {
  "kernelspec": {
   "display_name": "Python 3 (ipykernel)",
   "language": "python",
   "name": "python3"
  },
  "language_info": {
   "codemirror_mode": {
    "name": "ipython",
    "version": 3
   },
   "file_extension": ".py",
   "mimetype": "text/x-python",
   "name": "python",
   "nbconvert_exporter": "python",
   "pygments_lexer": "ipython3",
   "version": "3.11.5"
  }
 },
 "nbformat": 4,
 "nbformat_minor": 5
}

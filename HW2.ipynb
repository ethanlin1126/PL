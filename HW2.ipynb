import json

def load_from_json(filename):

    with open(filename, 'r') as f:
        return json.load(f)

def print_app_rankings(app_rankings):
    """
    輸出應用程式的下載排名和分數排名
    """
    sorted_by_downloads = sorted(app_rankings['apps'], key=lambda x: x['downloads'], reverse=True)
    sorted_by_rating = sorted(app_rankings['apps'], key=lambda x: x['rating'], reverse=True)

    print("下載排名:")
    for i, app in enumerate(sorted_by_downloads, start=1):
        print(f"{i}. {app['name']} - {app['downloads']} downloads")

    print("\n分數排名:")
    for i, app in enumerate(sorted_by_rating, start=1):
        print(f"{i}. {app['name']} - Rating: {app['rating']}")

def print_top_app(app_rankings):
    """
    輸出綜合下載次數與分數排名相對最高的應用程式
    """
    sorted_by_combined_rank = sorted(app_rankings['apps'], key=lambda x: (x['downloads'] + x['rating']), reverse=True)
    top_app = sorted_by_combined_rank[0]
    print(f"\n整體排名最高的應用程式: {top_app['name']}")

# 讀取 JSON 檔案
app_rankings_data = load_from_json("app_rankings.json")

# 輸出應用程式排名
print_app_rankings(app_rankings_data)

# 輸出綜合下載次數與分數排名相對最高的應用程式
print_top_app(app_rankings_data)
